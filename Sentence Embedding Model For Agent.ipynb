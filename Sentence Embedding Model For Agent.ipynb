{
 "cells": [
  {
   "cell_type": "code",
   "execution_count": 1,
   "metadata": {},
   "outputs": [],
   "source": [
    "import os"
   ]
  },
  {
   "cell_type": "code",
   "execution_count": 2,
   "metadata": {},
   "outputs": [
    {
     "data": {
      "text/plain": [
       "'C:\\\\Users\\\\srika\\\\Desktop\\\\Working Folder\\\\R\\\\Projects\\\\USIF'"
      ]
     },
     "execution_count": 2,
     "metadata": {},
     "output_type": "execute_result"
    }
   ],
   "source": [
    "os.getcwd()"
   ]
  },
  {
   "cell_type": "code",
   "execution_count": 3,
   "metadata": {},
   "outputs": [],
   "source": [
    "os.chdir(r'C:\\Users\\srika\\Desktop\\Working Folder\\R\\Projects\\USIF')"
   ]
  },
  {
   "cell_type": "code",
   "execution_count": 4,
   "metadata": {},
   "outputs": [],
   "source": [
    "import pandas as pd\n",
    "import numpy as np\n",
    "import re\n",
    "import nltk\n",
    "import gensim\n",
    "import string\n",
    "import operator\n",
    "from nltk.stem import WordNetLemmatizer\n",
    "from gensim.models import word2vec\n",
    "from gensim.models.keyedvectors import KeyedVectors\n",
    "from gensim.models.phrases import Phrases, Phraser\n",
    "from nltk.corpus import stopwords\n",
    "import warnings\n",
    "warnings.filterwarnings(\"ignore\")\n",
    "from sklearn.metrics.pairwise import cosine_similarity\n",
    "from tqdm import tqdm\n",
    "tqdm.pandas()\n",
    "lemmatizer = WordNetLemmatizer()\n",
    "pd.set_option('display.max_colwidth', -1)\n",
    "from gensim.utils import any2unicode\n",
    "from numpy import float32 as REAL, sum as np_sum, multiply as np_mult\n",
    "from fse import CSplitIndexedList\n",
    "from fse.models import Average,uSIF,sif"
   ]
  },
  {
   "cell_type": "code",
   "execution_count": 5,
   "metadata": {},
   "outputs": [
    {
     "data": {
      "text/plain": [
       "1593153"
      ]
     },
     "execution_count": 5,
     "metadata": {},
     "output_type": "execute_result"
    }
   ],
   "source": [
    "english_pings = open(r'All_Agent_English_Pings.txt', encoding='utf-8').readlines()\n",
    "english_pings = pd.Series(english_pings)\n",
    "len(english_pings)"
   ]
  },
  {
   "cell_type": "code",
   "execution_count": 6,
   "metadata": {},
   "outputs": [],
   "source": [
    "def prep(text):\n",
    "    data = str(text).lower()\n",
    "    #to remove data within brackets\n",
    "    data = re.sub(r'\\[.*?\\]', '', data) \n",
    "    #split the sentences with in a ping and remove punctuations\n",
    "    data = data.translate(str.maketrans(\"\",\"\",string.punctuation.replace('_','').replace('@',''))).strip() \n",
    "    # get rid of numbers\n",
    "    data = re.sub(r'\\d+', '', data)\n",
    "    # to get rid of all numbers & punctuations\n",
    "    data = [i for i in data.split() if not any(x in i for x in ['@','http'])]\n",
    "    # remove words with len <3\n",
    "    data = [i for i in data if len(i) > 1 or i in [\"i\"]]\n",
    "    data = [lemmatizer.lemmatize(i) for i in data]\n",
    "    return data "
   ]
  },
  {
   "cell_type": "code",
   "execution_count": 7,
   "metadata": {
    "scrolled": true
   },
   "outputs": [
    {
     "name": "stderr",
     "output_type": "stream",
     "text": [
      "100%|██████████████████████████████████████████████████████████████████████| 1593153/1593153 [03:49<00:00, 6927.04it/s]\n"
     ]
    }
   ],
   "source": [
    "# tqdm._instances.clear()\n",
    "english_pings_tokens = english_pings.progress_apply(prep)"
   ]
  },
  {
   "cell_type": "code",
   "execution_count": 8,
   "metadata": {},
   "outputs": [],
   "source": [
    "add = ['it','my','zip','code','on','email','to','of','do','me','is','com','1','','u','the','and','can','or','by','up','at','how','are','you']\n",
    "stop_words =[i for i in set(stopwords.words('english')) if len(i) <2]\n",
    "stop_words = stop_words + add\n",
    "stop_words.remove('i')"
   ]
  },
  {
   "cell_type": "code",
   "execution_count": 9,
   "metadata": {},
   "outputs": [
    {
     "name": "stderr",
     "output_type": "stream",
     "text": [
      "100%|██████████████████████████████████████████████████████████████████████| 1593153/1593153 [03:09<00:00, 8420.62it/s]\n"
     ]
    }
   ],
   "source": [
    "bigram_phraser_model = Phrases(english_pings_tokens, min_count=3, threshold=2.5)\n",
    "bigram_features = english_pings_tokens.progress_apply(lambda x: [word for word in bigram_phraser_model[x] if word not in stop_words])"
   ]
  },
  {
   "cell_type": "code",
   "execution_count": 10,
   "metadata": {},
   "outputs": [],
   "source": [
    "def prep_s2v(text):\n",
    "    data = str(text).lower()\n",
    "    #to remove data within brackets\n",
    "    data = re.sub(r'\\[.*?\\]', '', data) \n",
    "    #split the sentences with in a ping and remove punctuations\n",
    "    data = data.translate(str.maketrans(\"\",\"\",string.punctuation.replace('_','').replace('@',''))).strip() \n",
    "    # get rid of numbers\n",
    "    data = re.sub(r'\\d+', '', data)\n",
    "    # to get rid of all numbers & punctuations\n",
    "    data = [i for i in data.split() if not any(x in i for x in ['@','http'])]\n",
    "    # remove words with len <3\n",
    "    data = [i for i in data if len(i) > 1 or i in [\"i\"]]\n",
    "    data = [lemmatizer.lemmatize(i) for i in data]\n",
    "    #data = [x for x in bigram_phraser_model[data] if x not in stop_words]\n",
    "    return data"
   ]
  },
  {
   "cell_type": "code",
   "execution_count": 11,
   "metadata": {},
   "outputs": [],
   "source": [
    "w2v_model = word2vec.Word2Vec(bigram_features, size=100, sg=0, workers=8, min_count=3, window = 5, iter=100)"
   ]
  },
  {
   "cell_type": "code",
   "execution_count": 12,
   "metadata": {
    "scrolled": true
   },
   "outputs": [
    {
     "data": {
      "text/plain": [
       "(1593137, 18350476)"
      ]
     },
     "execution_count": 12,
     "metadata": {},
     "output_type": "execute_result"
    }
   ],
   "source": [
    "indexed_sentences = CSplitIndexedList(list(english_pings), custom_split=prep_s2v)\n",
    "s2v_model = uSIF(w2v_model, workers=2, lang_freq=\"en\")\n",
    "s2v_model.train(indexed_sentences)"
   ]
  },
  {
   "cell_type": "markdown",
   "metadata": {},
   "source": [
    "# Callback"
   ]
  },
  {
   "cell_type": "code",
   "execution_count": 175,
   "metadata": {},
   "outputs": [],
   "source": [
    "baselines = pd.read_excel(r\"Baselines.xlsx\",'callback')\n",
    "callback_baselines = pd.Series(baselines['Baselines'])\n",
    "baseline_df = pd.DataFrame()"
   ]
  },
  {
   "cell_type": "code",
   "execution_count": 176,
   "metadata": {},
   "outputs": [
    {
     "name": "stderr",
     "output_type": "stream",
     "text": [
      "100%|██████████████████████████████████████████████████████████████████████████████████| 22/22 [00:13<00:00,  1.60it/s]\n"
     ]
    },
    {
     "data": {
      "text/html": [
       "<div>\n",
       "<style scoped>\n",
       "    .dataframe tbody tr th:only-of-type {\n",
       "        vertical-align: middle;\n",
       "    }\n",
       "\n",
       "    .dataframe tbody tr th {\n",
       "        vertical-align: top;\n",
       "    }\n",
       "\n",
       "    .dataframe thead th {\n",
       "        text-align: right;\n",
       "    }\n",
       "</style>\n",
       "<table border=\"1\" class=\"dataframe\">\n",
       "  <thead>\n",
       "    <tr style=\"text-align: right;\">\n",
       "      <th></th>\n",
       "      <th>0</th>\n",
       "      <th>2</th>\n",
       "    </tr>\n",
       "  </thead>\n",
       "  <tbody>\n",
       "    <tr>\n",
       "      <th>9712</th>\n",
       "      <td>after this chat you will be getting a short email survey about your support experience with me. aside from escalating the issue to our relevant team, is there anything else that i can help you with?\\n</td>\n",
       "      <td>0.4824163317680359</td>\n",
       "    </tr>\n",
       "    <tr>\n",
       "      <th>9228</th>\n",
       "      <td>i have cancelled the subscription and i'll be sending you the email confirmation shortly. is there anything else i can help you with aside from your cancellation request?\\n</td>\n",
       "      <td>0.4865388870239258</td>\n",
       "    </tr>\n",
       "    <tr>\n",
       "      <th>7230</th>\n",
       "      <td>our team will definitely notify you via email for any updates about the refund within 5-10 business days, all right?\\n</td>\n",
       "      <td>0.5048779249191284</td>\n",
       "    </tr>\n",
       "    <tr>\n",
       "      <th>690</th>\n",
       "      <td>bamaarouf hiba: should i escalate it to level 2?\\n</td>\n",
       "      <td>0.6299334764480591</td>\n",
       "    </tr>\n",
       "    <tr>\n",
       "      <th>3761</th>\n",
       "      <td>is there anything else i can further assist you with aside from following on your request of account deletion and refund request?\\n</td>\n",
       "      <td>0.5482227802276611</td>\n",
       "    </tr>\n",
       "  </tbody>\n",
       "</table>\n",
       "</div>"
      ],
      "text/plain": [
       "                                                                                                                                                                                                             0  \\\n",
       "9712  after this chat you will be getting a short email survey about your support experience with me. aside from escalating the issue to our relevant team, is there anything else that i can help you with?\\n   \n",
       "9228  i have cancelled the subscription and i'll be sending you the email confirmation shortly. is there anything else i can help you with aside from your cancellation request?\\n                               \n",
       "7230  our team will definitely notify you via email for any updates about the refund within 5-10 business days, all right?\\n                                                                                     \n",
       "690   bamaarouf hiba: should i escalate it to level 2?\\n                                                                                                                                                         \n",
       "3761  is there anything else i can further assist you with aside from following on your request of account deletion and refund request?\\n                                                                        \n",
       "\n",
       "                       2  \n",
       "9712  0.4824163317680359  \n",
       "9228  0.4865388870239258  \n",
       "7230  0.5048779249191284  \n",
       "690   0.6299334764480591  \n",
       "3761  0.5482227802276611  "
      ]
     },
     "execution_count": 176,
     "metadata": {},
     "output_type": "execute_result"
    }
   ],
   "source": [
    "for sent in tqdm(callback_baselines):\n",
    "    test_tokens = prep_s2v(sent)\n",
    "    similar_sentences = s2v_model.sv.similar_by_sentence(test_tokens, model = s2v_model, \n",
    "                                                         indexable=indexed_sentences.items, topn=10000)\n",
    "    similar_sentences = np.array(similar_sentences)\n",
    "    new_df = pd.DataFrame(similar_sentences[similar_sentences[:,2].astype(float)>=0.4]).sample(10)[[0,2]]\n",
    "    baseline_df = pd.concat([new_df])\n",
    "baseline_df.head()"
   ]
  },
  {
   "cell_type": "markdown",
   "metadata": {},
   "source": [
    "# Chat End"
   ]
  },
  {
   "cell_type": "code",
   "execution_count": 177,
   "metadata": {},
   "outputs": [],
   "source": [
    "baselines = pd.read_excel(r\"Baselines.xlsx\",'chatend')\n",
    "chatend_baselines = pd.Series(baselines['Baselines'])\n",
    "baseline_df = pd.DataFrame()"
   ]
  },
  {
   "cell_type": "code",
   "execution_count": 178,
   "metadata": {},
   "outputs": [
    {
     "name": "stderr",
     "output_type": "stream",
     "text": [
      "100%|██████████████████████████████████████████████████████████████████████████████████| 10/10 [00:06<00:00,  1.51it/s]\n"
     ]
    },
    {
     "data": {
      "text/html": [
       "<div>\n",
       "<style scoped>\n",
       "    .dataframe tbody tr th:only-of-type {\n",
       "        vertical-align: middle;\n",
       "    }\n",
       "\n",
       "    .dataframe tbody tr th {\n",
       "        vertical-align: top;\n",
       "    }\n",
       "\n",
       "    .dataframe thead th {\n",
       "        text-align: right;\n",
       "    }\n",
       "</style>\n",
       "<table border=\"1\" class=\"dataframe\">\n",
       "  <thead>\n",
       "    <tr style=\"text-align: right;\">\n",
       "      <th></th>\n",
       "      <th>0</th>\n",
       "      <th>2</th>\n",
       "    </tr>\n",
       "  </thead>\n",
       "  <tbody>\n",
       "    <tr>\n",
       "      <th>683</th>\n",
       "      <td>please be advised that you will receive a feedback within 3-5 business days, okay?\\n</td>\n",
       "      <td>0.4597550928592682</td>\n",
       "    </tr>\n",
       "    <tr>\n",
       "      <th>1353</th>\n",
       "      <td>you are so welcome!  do you have anything else i can help you with?  in about six hours you will receive a short survey to your email.  i would greatly appreciate it if you could fill that out about our interaction!  its helps us with our customer service.\\n</td>\n",
       "      <td>0.42468953132629395</td>\n",
       "    </tr>\n",
       "    <tr>\n",
       "      <th>218</th>\n",
       "      <td>also, i wanted to let you know within 4 to 6 hours you should receive a survey through email.. if you could take the time to fill that out, it would be greatly appreciated! is there anything else i can help you with today?\\n</td>\n",
       "      <td>0.5080486536026001</td>\n",
       "    </tr>\n",
       "    <tr>\n",
       "      <th>2036</th>\n",
       "      <td>have you recived a confirmation email?\\n</td>\n",
       "      <td>0.4034988284111023</td>\n",
       "    </tr>\n",
       "    <tr>\n",
       "      <th>662</th>\n",
       "      <td>of course, as you wish, katie. anything else i can do for you? if not, please be aware you'll receive a survey after this chat; we appreciate your feedback!\\n</td>\n",
       "      <td>0.46082666516304016</td>\n",
       "    </tr>\n",
       "  </tbody>\n",
       "</table>\n",
       "</div>"
      ],
      "text/plain": [
       "                                                                                                                                                                                                                                                                       0  \\\n",
       "683   please be advised that you will receive a feedback within 3-5 business days, okay?\\n                                                                                                                                                                                 \n",
       "1353  you are so welcome!  do you have anything else i can help you with?  in about six hours you will receive a short survey to your email.  i would greatly appreciate it if you could fill that out about our interaction!  its helps us with our customer service.\\n   \n",
       "218   also, i wanted to let you know within 4 to 6 hours you should receive a survey through email.. if you could take the time to fill that out, it would be greatly appreciated! is there anything else i can help you with today?\\n                                     \n",
       "2036  have you recived a confirmation email?\\n                                                                                                                                                                                                                             \n",
       "662   of course, as you wish, katie. anything else i can do for you? if not, please be aware you'll receive a survey after this chat; we appreciate your feedback!\\n                                                                                                       \n",
       "\n",
       "                        2  \n",
       "683   0.4597550928592682   \n",
       "1353  0.42468953132629395  \n",
       "218   0.5080486536026001   \n",
       "2036  0.4034988284111023   \n",
       "662   0.46082666516304016  "
      ]
     },
     "execution_count": 178,
     "metadata": {},
     "output_type": "execute_result"
    }
   ],
   "source": [
    "for sent in tqdm(chatend_baselines):\n",
    "    test_tokens = prep_s2v(sent)\n",
    "    similar_sentences = s2v_model.sv.similar_by_sentence(test_tokens, model = s2v_model, \n",
    "                                                         indexable=indexed_sentences.items, topn=10000)\n",
    "    similar_sentences = np.array(similar_sentences)\n",
    "    new_df = pd.DataFrame(similar_sentences[similar_sentences[:,2].astype(float)>=0.4]).sample(10)[[0,2]]\n",
    "    baseline_df = pd.concat([new_df])\n",
    "baseline_df.head()"
   ]
  },
  {
   "cell_type": "markdown",
   "metadata": {},
   "source": [
    "# Greeting"
   ]
  },
  {
   "cell_type": "code",
   "execution_count": 179,
   "metadata": {},
   "outputs": [],
   "source": [
    "baselines = pd.read_excel(r\"Baselines.xlsx\",'greeting')\n",
    "greeting_baselines = pd.Series(baselines['Baselines'])\n",
    "baseline_df = pd.DataFrame()"
   ]
  },
  {
   "cell_type": "code",
   "execution_count": 180,
   "metadata": {},
   "outputs": [
    {
     "name": "stderr",
     "output_type": "stream",
     "text": [
      "100%|████████████████████████████████████████████████████████████████████████████████████| 5/5 [00:02<00:00,  2.24it/s]\n"
     ]
    },
    {
     "data": {
      "text/html": [
       "<div>\n",
       "<style scoped>\n",
       "    .dataframe tbody tr th:only-of-type {\n",
       "        vertical-align: middle;\n",
       "    }\n",
       "\n",
       "    .dataframe tbody tr th {\n",
       "        vertical-align: top;\n",
       "    }\n",
       "\n",
       "    .dataframe thead th {\n",
       "        text-align: right;\n",
       "    }\n",
       "</style>\n",
       "<table border=\"1\" class=\"dataframe\">\n",
       "  <thead>\n",
       "    <tr style=\"text-align: right;\">\n",
       "      <th></th>\n",
       "      <th>0</th>\n",
       "      <th>2</th>\n",
       "    </tr>\n",
       "  </thead>\n",
       "  <tbody>\n",
       "    <tr>\n",
       "      <th>5</th>\n",
       "      <td>eber jimeno: hello, how are i? i have a client with this email juanluortizcepeda@gmail.com\\n</td>\n",
       "      <td>0.463169127702713</td>\n",
       "    </tr>\n",
       "    <tr>\n",
       "      <th>51</th>\n",
       "      <td>hi angel, ho are you?\\n</td>\n",
       "      <td>0.41796958446502686</td>\n",
       "    </tr>\n",
       "    <tr>\n",
       "      <th>29</th>\n",
       "      <td>hello jeanine.  are you with me?\\n</td>\n",
       "      <td>0.4308382272720337</td>\n",
       "    </tr>\n",
       "    <tr>\n",
       "      <th>9</th>\n",
       "      <td>mardi hind: hello irini how are you?\\n</td>\n",
       "      <td>0.4520649313926697</td>\n",
       "    </tr>\n",
       "    <tr>\n",
       "      <th>34</th>\n",
       "      <td>hey gio, are you with me?\\n</td>\n",
       "      <td>0.4267681837081909</td>\n",
       "    </tr>\n",
       "  </tbody>\n",
       "</table>\n",
       "</div>"
      ],
      "text/plain": [
       "                                                                                               0  \\\n",
       "5   eber jimeno: hello, how are i? i have a client with this email juanluortizcepeda@gmail.com\\n   \n",
       "51  hi angel, ho are you?\\n                                                                        \n",
       "29  hello jeanine.  are you with me?\\n                                                             \n",
       "9   mardi hind: hello irini how are you?\\n                                                         \n",
       "34  hey gio, are you with me?\\n                                                                    \n",
       "\n",
       "                      2  \n",
       "5   0.463169127702713    \n",
       "51  0.41796958446502686  \n",
       "29  0.4308382272720337   \n",
       "9   0.4520649313926697   \n",
       "34  0.4267681837081909   "
      ]
     },
     "execution_count": 180,
     "metadata": {},
     "output_type": "execute_result"
    }
   ],
   "source": [
    "for sent in tqdm(greeting_baselines):\n",
    "    test_tokens = prep_s2v(sent)\n",
    "    similar_sentences = s2v_model.sv.similar_by_sentence(test_tokens, model = s2v_model, \n",
    "                                                         indexable=indexed_sentences.items, topn=10000)\n",
    "    similar_sentences = np.array(similar_sentences)\n",
    "    new_df = pd.DataFrame(similar_sentences[similar_sentences[:,2].astype(float)>=0.4]).sample(10)[[0,2]]\n",
    "    baseline_df = pd.concat([new_df])\n",
    "baseline_df.head()"
   ]
  },
  {
   "cell_type": "markdown",
   "metadata": {},
   "source": [
    "# Rude"
   ]
  },
  {
   "cell_type": "code",
   "execution_count": 181,
   "metadata": {},
   "outputs": [],
   "source": [
    "baselines = pd.read_excel(r\"Baselines.xlsx\",'rude')\n",
    "rude_baselines = pd.Series(baselines['Baselines'])\n",
    "baseline_df = pd.DataFrame()"
   ]
  },
  {
   "cell_type": "code",
   "execution_count": 182,
   "metadata": {},
   "outputs": [
    {
     "name": "stderr",
     "output_type": "stream",
     "text": [
      "100%|████████████████████████████████████████████████████████████████████████████████████| 5/5 [00:02<00:00,  2.01it/s]\n"
     ]
    },
    {
     "data": {
      "text/html": [
       "<div>\n",
       "<style scoped>\n",
       "    .dataframe tbody tr th:only-of-type {\n",
       "        vertical-align: middle;\n",
       "    }\n",
       "\n",
       "    .dataframe tbody tr th {\n",
       "        vertical-align: top;\n",
       "    }\n",
       "\n",
       "    .dataframe thead th {\n",
       "        text-align: right;\n",
       "    }\n",
       "</style>\n",
       "<table border=\"1\" class=\"dataframe\">\n",
       "  <thead>\n",
       "    <tr style=\"text-align: right;\">\n",
       "      <th></th>\n",
       "      <th>0</th>\n",
       "      <th>2</th>\n",
       "    </tr>\n",
       "  </thead>\n",
       "  <tbody>\n",
       "    <tr>\n",
       "      <th>111</th>\n",
       "      <td>can you try getting back in without your wifi connection?\\n</td>\n",
       "      <td>0.5092500448226929</td>\n",
       "    </tr>\n",
       "    <tr>\n",
       "      <th>210</th>\n",
       "      <td>have you tried to login without using vpn?\\n</td>\n",
       "      <td>0.4755154848098755</td>\n",
       "    </tr>\n",
       "    <tr>\n",
       "      <th>461</th>\n",
       "      <td>is there someone using your account without your knowledge?\\n</td>\n",
       "      <td>0.43550848960876465</td>\n",
       "    </tr>\n",
       "    <tr>\n",
       "      <th>621</th>\n",
       "      <td>just to be sure i met your needs, you mentioned you were unable to stream being that the disney plus content kept buffering, i had you troubleshoot your tv by restating it. afterwards you mentioned you tried another content and it worked. am i correct?\\n</td>\n",
       "      <td>0.4208824038505554</td>\n",
       "    </tr>\n",
       "    <tr>\n",
       "      <th>693</th>\n",
       "      <td>has she been able to get on her phone with data?\\n</td>\n",
       "      <td>0.41588860750198364</td>\n",
       "    </tr>\n",
       "  </tbody>\n",
       "</table>\n",
       "</div>"
      ],
      "text/plain": [
       "                                                                                                                                                                                                                                                                  0  \\\n",
       "111  can you try getting back in without your wifi connection?\\n                                                                                                                                                                                                      \n",
       "210  have you tried to login without using vpn?\\n                                                                                                                                                                                                                     \n",
       "461  is there someone using your account without your knowledge?\\n                                                                                                                                                                                                    \n",
       "621  just to be sure i met your needs, you mentioned you were unable to stream being that the disney plus content kept buffering, i had you troubleshoot your tv by restating it. afterwards you mentioned you tried another content and it worked. am i correct?\\n   \n",
       "693  has she been able to get on her phone with data?\\n                                                                                                                                                                                                               \n",
       "\n",
       "                       2  \n",
       "111  0.5092500448226929   \n",
       "210  0.4755154848098755   \n",
       "461  0.43550848960876465  \n",
       "621  0.4208824038505554   \n",
       "693  0.41588860750198364  "
      ]
     },
     "execution_count": 182,
     "metadata": {},
     "output_type": "execute_result"
    }
   ],
   "source": [
    "for sent in tqdm(rude_baselines):\n",
    "    test_tokens = prep_s2v(sent)\n",
    "    similar_sentences = s2v_model.sv.similar_by_sentence(test_tokens, model = s2v_model, \n",
    "                                                         indexable=indexed_sentences.items, topn=10000)\n",
    "    similar_sentences = np.array(similar_sentences)\n",
    "    new_df = pd.DataFrame(similar_sentences[similar_sentences[:,2].astype(float)>=0.4]).sample(10)[[0,2]]\n",
    "    baseline_df = pd.concat([new_df])\n",
    "baseline_df.head()"
   ]
  },
  {
   "cell_type": "code",
   "execution_count": 21,
   "metadata": {},
   "outputs": [],
   "source": [
    "import pickle\n",
    "with open(r's2v_usif_model_dict.pkl', 'wb') as f:\n",
    "    pickle.dump(s2v_usif_model_dict, f, pickle.HIGHEST_PROTOCOL)"
   ]
  },
  {
   "cell_type": "code",
   "execution_count": null,
   "metadata": {},
   "outputs": [],
   "source": []
  },
  {
   "cell_type": "code",
   "execution_count": null,
   "metadata": {},
   "outputs": [],
   "source": []
  },
  {
   "cell_type": "code",
   "execution_count": null,
   "metadata": {},
   "outputs": [],
   "source": []
  },
  {
   "cell_type": "code",
   "execution_count": null,
   "metadata": {},
   "outputs": [],
   "source": []
  },
  {
   "cell_type": "code",
   "execution_count": null,
   "metadata": {},
   "outputs": [],
   "source": []
  },
  {
   "cell_type": "code",
   "execution_count": null,
   "metadata": {},
   "outputs": [],
   "source": []
  }
 ],
 "metadata": {
  "kernelspec": {
   "display_name": "Python 3 (ipykernel)",
   "language": "python",
   "name": "python3"
  },
  "language_info": {
   "codemirror_mode": {
    "name": "ipython",
    "version": 3
   },
   "file_extension": ".py",
   "mimetype": "text/x-python",
   "name": "python",
   "nbconvert_exporter": "python",
   "pygments_lexer": "ipython3",
   "version": "3.9.13"
  }
 },
 "nbformat": 4,
 "nbformat_minor": 4
}
